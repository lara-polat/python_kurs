{
 "cells": [
  {
   "cell_type": "markdown",
   "id": "74e3cec8",
   "metadata": {},
   "source": [
    "## Analyse der Intensivnutzung auf Social Media"
   ]
  },
  {
   "cell_type": "code",
   "execution_count": null,
   "id": "0bed1b75",
   "metadata": {},
   "outputs": [],
   "source": [
    "# import der Packages\n"
   ]
  }
 ],
 "metadata": {
  "language_info": {
   "name": "python"
  }
 },
 "nbformat": 4,
 "nbformat_minor": 5
}
